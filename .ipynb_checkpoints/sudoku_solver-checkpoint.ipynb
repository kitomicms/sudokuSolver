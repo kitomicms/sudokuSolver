{
 "cells": [
  {
   "cell_type": "markdown",
   "metadata": {
    "colab_type": "text",
    "id": "view-in-github"
   },
   "source": [
    "<a href=\"https://colab.research.google.com/github/kitomicms/sudokuSolver/blob/main/sudoku_solver.ipynb\" target=\"_parent\"><img src=\"https://colab.research.google.com/assets/colab-badge.svg\" alt=\"Open In Colab\"/></a>"
   ]
  },
  {
   "cell_type": "code",
   "execution_count": 319,
   "metadata": {
    "id": "U-J64M-vc499"
   },
   "outputs": [],
   "source": [
    "# all the squares index\n",
    "class Board():\n",
    "    def __init__(self,template='310004069000000200008005040000000005006000017807030000590700006600003050000100002'):\n",
    "        #self.board = self.get_squares()\n",
    "        self.board = {}\n",
    "        self.input = template\n",
    "        self.template = self.from_template(template)\n",
    "        self.grid = self.transform_template()\n",
    "        for idx in range(1,82):\n",
    "        #   for square in self.get_squares():\n",
    "            self.board[idx] = 0\n",
    "        if template != None:\n",
    "            for count,square in enumerate(self.get_squares()):\n",
    "                self.board[count+1] = Square(count+1,square,self.template[count])\n",
    "    \n",
    "    # start from bottom left ?\n",
    "    def from_template(self,template):\n",
    "        assert len(template) == 81, \"the string does not have 81 char\"\n",
    "        temp = ''\n",
    "        for x in range(0,9):\n",
    "          start = 0 + x * 9\n",
    "          end = 9 + x * 9\n",
    "          temp = template[start:end] + temp\n",
    "        return temp #reversed(temp)\n",
    "\n",
    "    def __repr__(self):\n",
    "        return repr(self.print_board())\n",
    "    \n",
    "    # get the position index\n",
    "    def get_squares(self):\n",
    "        squares = []\n",
    "        for x in range(0,9):\n",
    "          temp = [y + x*25 for y in [1,2,3,4,5,6,7,8,9] ]\n",
    "          squares = squares + temp\n",
    "          #squares.extend(temp)\n",
    "        return squares # \n",
    "\n",
    "    def get_candidate_answers(self,ans):\n",
    "        pass\n",
    "\n",
    "    # to solution friendly\n",
    "    def transform_template(self):\n",
    "        old_input = self.input # the original string\n",
    "        new_input = []\n",
    "        for x in range(0,9):\n",
    "            start = 0 + x * 9\n",
    "            end = 9 + x * 9\n",
    "            lst = old_input[start:end]\n",
    "            print(lst)\n",
    "            new_input.append([int(lst[y]) for y in range(0,9)])\n",
    "\n",
    "        return new_input\n",
    "\n",
    "    def print_board(self):\n",
    "        string = ''\n",
    "        for count,boo in enumerate(self.input):\n",
    "            if (count+1) % 9 == 0:\n",
    "                string += boo\n",
    "                print(string)\n",
    "                string = ''\n",
    "            else:\n",
    "                string += boo\n",
    "    \n",
    "    def findTheNextCell(self):\n",
    "        for x in range(0,9):\n",
    "            for y in range(0,9):\n",
    "                if self.grid[x][y] == 0:\n",
    "                    return x,y\n",
    "        return -1,-1\n",
    "    \n",
    "    def isValid(self,grid,i,j,candidate):\n",
    "        # check row\n",
    "        row_result = [grid[i][x] != candidate for x in range(0,9)]\n",
    "        if False in row_result:\n",
    "            return False\n",
    "        \n",
    "        # check col\n",
    "        col_result = [grid[y][j] != candidate for y in range(0,9)]\n",
    "        if False in col_result:\n",
    "            return False\n",
    "        \n",
    "        # check square box\n",
    "        # find top left cell\n",
    "        topX,topY = (i//3 * 3),(j//3 * 3)\n",
    "        for x in range(topX,topX+3):\n",
    "            for y in range(topY,topY+3):\n",
    "                if grid[x][y] == candidate:\n",
    "                    return False\n",
    "        return True\n",
    "\n",
    "    def solve(self,i=0,j=0):\n",
    "        i,j = self.findTheNextCell()\n",
    "        if i == -1:\n",
    "            return True\n",
    "    \n",
    "        for candidate in range(1,10):\n",
    "            if self.isValid(self.grid,i,j,candidate):\n",
    "                self.grid[i][j] = candidate\n",
    "                if self.solve(i,j):\n",
    "                    return True\n",
    "                self.grid[i][j] = 0\n",
    " \n",
    "                \n",
    "        return False\n",
    "        \n",
    "class Square():\n",
    "  def __init__(self,idx,position,answer=0):\n",
    "    self.idx = idx\n",
    "    self.position = position # current square\n",
    "    self.answer = answer # pre determined answer\n",
    "    self.candidate_answers = [] # 1,2,3,4,5,6,7,8,9\n",
    "    self.board = self.get_squares() # 1 - 81\n",
    "    self.lookupPositions = self.lookup() # which squares should I look at for answer\n",
    "\n",
    "  def get_squares(self):\n",
    "    squares = []\n",
    "    for x in range(0,9):\n",
    "      temp = [y + x*25 for y in [1,2,3,4,5,6,7,8,9] ]\n",
    "      squares = squares + temp\n",
    "      #squares.extend(temp)\n",
    "    return squares # \n",
    "\n",
    "  def get_index(self):\n",
    "    sideway = [x for x in range(1,9)] + [-x for x in range(1,9)]\n",
    "    updown = [x*25 for x in range(1,9)] + [-x*25 for x in range(1,9)]\n",
    "    return sideway + updown\n",
    "\n",
    "\n",
    "  def lookup(self):\n",
    "    \n",
    "    \n",
    "    col = self.position % 25 % 3 - 1 # [0,1,-1]\n",
    "    row = (self.position // 25) % 3 \n",
    "    \n",
    "    # top left\n",
    "    inner_index = [[[26,27,51,52],[24,26,49,51],[23,24,48,49]],[[-24,-23,26,27],[-26,-24,24,26],[23,24,-27,-26]],[[-24,-23,-49,-48],[-26,-24,-51,-49],[-27,-26,-52,-51]]]\n",
    "    lookup_indexs = self.get_index() + [ x for x in inner_index[row][col]]\n",
    "\n",
    "    lookup_pos = [lookup_index + self.position for lookup_index in lookup_indexs]\n",
    "    valid_lookup = [lookup \n",
    "                        for lookup in lookup_pos if lookup in self.board]\n",
    "    return valid_lookup\n"
   ]
  },
  {
   "cell_type": "code",
   "execution_count": 320,
   "metadata": {},
   "outputs": [
    {
     "name": "stdout",
     "output_type": "stream",
     "text": [
      "310004069\n",
      "000000200\n",
      "008005040\n",
      "000000005\n",
      "006000017\n",
      "807030000\n",
      "590700006\n",
      "600003050\n",
      "000100002\n"
     ]
    }
   ],
   "source": [
    "new = Board()"
   ]
  },
  {
   "cell_type": "code",
   "execution_count": 321,
   "metadata": {},
   "outputs": [
    {
     "data": {
      "text/plain": [
       "[[3, 1, 0, 0, 0, 4, 0, 6, 9],\n",
       " [0, 0, 0, 0, 0, 0, 2, 0, 0],\n",
       " [0, 0, 8, 0, 0, 5, 0, 4, 0],\n",
       " [0, 0, 0, 0, 0, 0, 0, 0, 5],\n",
       " [0, 0, 6, 0, 0, 0, 0, 1, 7],\n",
       " [8, 0, 7, 0, 3, 0, 0, 0, 0],\n",
       " [5, 9, 0, 7, 0, 0, 0, 0, 6],\n",
       " [6, 0, 0, 0, 0, 3, 0, 5, 0],\n",
       " [0, 0, 0, 1, 0, 0, 0, 0, 2]]"
      ]
     },
     "execution_count": 321,
     "metadata": {},
     "output_type": "execute_result"
    }
   ],
   "source": [
    "new.grid"
   ]
  },
  {
   "cell_type": "code",
   "execution_count": 322,
   "metadata": {},
   "outputs": [
    {
     "data": {
      "text/plain": [
       "True"
      ]
     },
     "execution_count": 322,
     "metadata": {},
     "output_type": "execute_result"
    }
   ],
   "source": [
    "new.solve()"
   ]
  },
  {
   "cell_type": "code",
   "execution_count": 323,
   "metadata": {},
   "outputs": [
    {
     "data": {
      "text/plain": [
       "[[3, 1, 2, 8, 7, 4, 5, 6, 9],\n",
       " [4, 6, 5, 3, 1, 9, 2, 7, 8],\n",
       " [9, 7, 8, 2, 6, 5, 1, 4, 3],\n",
       " [1, 3, 9, 4, 2, 7, 6, 8, 5],\n",
       " [2, 4, 6, 5, 9, 8, 3, 1, 7],\n",
       " [8, 5, 7, 6, 3, 1, 9, 2, 4],\n",
       " [5, 9, 1, 7, 4, 2, 8, 3, 6],\n",
       " [6, 2, 4, 9, 8, 3, 7, 5, 1],\n",
       " [7, 8, 3, 1, 5, 6, 4, 9, 2]]"
      ]
     },
     "execution_count": 323,
     "metadata": {},
     "output_type": "execute_result"
    }
   ],
   "source": [
    "new.grid"
   ]
  }
 ],
 "metadata": {
  "colab": {
   "authorship_tag": "ABX9TyPrzSk0RshYnYWxhpkACWwh",
   "collapsed_sections": [],
   "include_colab_link": true,
   "name": "sudoku_solver.ipynb",
   "provenance": []
  },
  "kernelspec": {
   "display_name": "Python 3 (ipykernel)",
   "language": "python",
   "name": "python3"
  },
  "language_info": {
   "codemirror_mode": {
    "name": "ipython",
    "version": 3
   },
   "file_extension": ".py",
   "mimetype": "text/x-python",
   "name": "python",
   "nbconvert_exporter": "python",
   "pygments_lexer": "ipython3",
   "version": "3.9.6"
  }
 },
 "nbformat": 4,
 "nbformat_minor": 4
}
