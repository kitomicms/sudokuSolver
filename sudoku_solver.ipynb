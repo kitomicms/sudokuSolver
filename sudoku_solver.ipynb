{
  "nbformat": 4,
  "nbformat_minor": 0,
  "metadata": {
    "colab": {
      "name": "sudoku_solver.ipynb",
      "provenance": [],
      "collapsed_sections": [],
      "authorship_tag": "ABX9TyPrzSk0RshYnYWxhpkACWwh",
      "include_colab_link": true
    },
    "kernelspec": {
      "name": "python3",
      "display_name": "Python 3"
    },
    "language_info": {
      "name": "python"
    }
  },
  "cells": [
    {
      "cell_type": "markdown",
      "metadata": {
        "id": "view-in-github",
        "colab_type": "text"
      },
      "source": [
        "<a href=\"https://colab.research.google.com/github/kitomicms/sudokuSolver/blob/main/sudoku_solver.ipynb\" target=\"_parent\"><img src=\"https://colab.research.google.com/assets/colab-badge.svg\" alt=\"Open In Colab\"/></a>"
      ]
    },
    {
      "cell_type": "code",
      "execution_count": 252,
      "metadata": {
        "id": "U-J64M-vc499"
      },
      "outputs": [],
      "source": [
        "# all the squares index\n",
        "class Board():\n",
        "  def __init__(self,template='310004069000000200008005040000000005006000017807030000590700006600003050000100002'):\n",
        "    #self.board = self.get_squares()\n",
        "    self.board = {}\n",
        "    self.template = self.from_template(template)\n",
        "\n",
        "    for idx in range(1,82):\n",
        " #   for square in self.get_squares():\n",
        "      self.board[idx] = 0\n",
        "    if template != None:\n",
        "      for count,square in enumerate(self.get_squares()):\n",
        "        self.board[count+1] = Square(count+1,square,self.template[count])\n",
        "\n",
        "  def from_template(self,template):\n",
        "    assert len(template) == 81, \"the string does not have 81 char\"\n",
        "    temp = ''\n",
        "    for x in range(0,9):\n",
        "      start = 0 + x * 9\n",
        "      end = 9 + x * 9\n",
        "      temp = template[start:end] + temp\n",
        "    return temp #reversed(temp)\n",
        "\n",
        "  def __repr__(self):\n",
        "    return repr(self.board)\n",
        "\n",
        "  def get_squares(self):\n",
        "    squares = []\n",
        "    for x in range(0,9):\n",
        "      temp = [y + x*25 for y in [1,2,3,4,5,6,7,8,9] ]\n",
        "      squares = squares + temp\n",
        "      #squares.extend(temp)\n",
        "    return squares # \n",
        "\n",
        "  def fill_board(self,ans):\n",
        "    # expect [position, answer,...]\n",
        "    pass\n",
        "\n",
        "  def print_board(self):\n",
        "    for square in self.board:\n",
        "      square.values().answer\n",
        "\n",
        "class Square():\n",
        "  def __init__(self,idx,position,answer=0):\n",
        "    self.idx = idx\n",
        "    self.position = position # current square\n",
        "    self.answer = answer # pre determined answer\n",
        "    self.candidate_answers = [] # 1,2,3,4,5,6,7,8,9\n",
        "    self.board = self.get_squares() # 1 - 81\n",
        "    self.lookupPositions = self.lookup() # which squares should I look at for answer\n",
        "\n",
        "  def get_squares(self):\n",
        "    squares = []\n",
        "    for x in range(0,9):\n",
        "      temp = [y + x*25 for y in [1,2,3,4,5,6,7,8,9] ]\n",
        "      squares = squares + temp\n",
        "      #squares.extend(temp)\n",
        "    return squares # \n",
        "\n",
        "  def get_index(self):\n",
        "    sideway = [x for x in range(1,9)] + [-x for x in range(1,9)]\n",
        "    updown = [x*25 for x in range(1,9)] + [-x*25 for x in range(1,9)]\n",
        "    return sideway + updown\n",
        "\n",
        "\n",
        "  def lookup(self):\n",
        "    \n",
        "    \n",
        "    col = self.position % 25 % 3 - 1 # [0,1,-1]\n",
        "    row = (self.position // 25) % 3 \n",
        "    \n",
        "    # top left\n",
        "    inner_index = [[[26,27,51,52],[24,26,49,51],[23,24,48,49]],[[-24,-23,26,27],[-26,-24,24,26],[23,24,-27,-26]],[[-24,-23,-49,-48],[-26,-24,-51,-49],[-27,-26,-52,-51]]]\n",
        "    lookup_indexs = self.get_index() + [ x for x in inner_index[row][col]]\n",
        "\n",
        "    lookup_pos = [lookup_index + self.position for lookup_index in lookup_indexs]\n",
        "    valid_lookup = [lookup \n",
        "                        for lookup in lookup_pos if lookup in self.board]\n",
        "    return valid_lookup\n",
        "  \n",
        "    \n",
        "  def answer(self):\n",
        "    pass"
      ]
    },
    {
      "cell_type": "code",
      "source": [
        "board = Board()\n",
        "board.board[17].answer"
      ],
      "metadata": {
        "colab": {
          "base_uri": "https://localhost:8080/",
          "height": 35
        },
        "id": "9pG__hgrmylg",
        "outputId": "42fbaf7e-016e-4607-85d3-7157d5c14283"
      },
      "execution_count": 254,
      "outputs": [
        {
          "output_type": "execute_result",
          "data": {
            "text/plain": [
              "'5'"
            ],
            "application/vnd.google.colaboratory.intrinsic+json": {
              "type": "string"
            }
          },
          "metadata": {},
          "execution_count": 254
        }
      ]
    },
    {
      "cell_type": "markdown",
      "source": [
        "310004069\n",
        "000000200\n",
        "008005040\n",
        "000000005\n",
        "006000017\n",
        "807030000\n",
        "590700006\n",
        "600003050\n",
        "000100002"
      ],
      "metadata": {
        "id": "cbx3JSkIjOeT"
      }
    },
    {
      "cell_type": "code",
      "source": [
        ""
      ],
      "metadata": {
        "id": "f8gcsglvqdpy"
      },
      "execution_count": null,
      "outputs": []
    }
  ]
}